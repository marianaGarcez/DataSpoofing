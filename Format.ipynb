{
 "cells": [
  {
   "cell_type": "code",
   "execution_count": 14,
   "metadata": {},
   "outputs": [],
   "source": [
    "import pandas as pd"
   ]
  },
  {
   "cell_type": "code",
   "execution_count": 15,
   "metadata": {},
   "outputs": [
    {
     "name": "stdout",
     "output_type": "stream",
     "text": [
      "                     t       shipid         lon        lat  speed  course\n",
      "0  01/03/2011 00:00:00  219000818.0    9.889237  55.270373    0.0     4.0\n",
      "1  01/03/2011 00:00:00  265513470.0   12.687850  56.044867    0.0   216.2\n",
      "2  01/03/2011 00:00:00  258069000.0  181.000000  91.000000    NaN     NaN\n",
      "3  01/03/2011 00:00:00    2194006.0    5.033400  55.538917    NaN     NaN\n",
      "4  01/03/2011 00:00:00  211904000.0   11.068557  56.468103    7.5   169.1\n"
     ]
    }
   ],
   "source": [
    "df = pd.read_csv('aisdk_20110301.csv')\n",
    "print(df.head(5))"
   ]
  },
  {
   "cell_type": "code",
   "execution_count": 7,
   "metadata": {},
   "outputs": [],
   "source": [
    "df = df.rename(columns={\n",
    "    '# Timestamp': 't',\n",
    "    'MMSI': 'shipid',\n",
    "    'Longitude': 'lon',\n",
    "    'Latitude': 'lat',\n",
    "    'SOG': 'speed',\n",
    "    'COG': 'course'\n",
    "})"
   ]
  },
  {
   "cell_type": "code",
   "execution_count": 9,
   "metadata": {},
   "outputs": [],
   "source": [
    "df = df.rename(columns={\n",
    "    'Timestamp': 't'\n",
    "})\n"
   ]
  },
  {
   "cell_type": "code",
   "execution_count": 10,
   "metadata": {},
   "outputs": [
    {
     "name": "stdout",
     "output_type": "stream",
     "text": [
      "                     t Type of mobile       shipid        lat         lon  \\\n",
      "0  01/03/2011 00:00:00        Class A  219000818.0  55.270373    9.889237   \n",
      "1  01/03/2011 00:00:00        Class A  265513470.0  56.044867   12.687850   \n",
      "2  01/03/2011 00:00:00        Class A  258069000.0  91.000000  181.000000   \n",
      "3  01/03/2011 00:00:00   Base Station    2194006.0  55.538917    5.033400   \n",
      "4  01/03/2011 00:00:00        Class A  211904000.0  56.468103   11.068557   \n",
      "\n",
      "      Navigational status  ROT  speed  course  Heading  ...         Name  \\\n",
      "0  Under way using engine  NaN    0.0     4.0      NaN  ...          NaN   \n",
      "1           Unknown value  NaN    0.0   216.2      NaN  ...          NaN   \n",
      "2           Unknown value  NaN    NaN     NaN      NaN  ...  ENERGY SWAN   \n",
      "3           Unknown value  NaN    NaN     NaN      NaN  ...          NaN   \n",
      "4  Under way using engine  0.4    7.5   169.1    171.0  ...          NaN   \n",
      "\n",
      "   Ship type Cargo type Width Length  Type of position fixing device  Draught  \\\n",
      "0  Undefined        NaN   NaN    NaN                       Undefined      NaN   \n",
      "1  Undefined        NaN   NaN    NaN                       Undefined      NaN   \n",
      "2      Cargo        NaN  19.0   93.0                             GPS      6.0   \n",
      "3  Undefined        NaN   NaN    NaN                        Surveyed      NaN   \n",
      "4  Undefined        NaN   NaN    NaN                       Undefined      NaN   \n",
      "\n",
      "    Destination                  ETA Data source type  \n",
      "0           NaN                  NaN              AIS  \n",
      "1           NaN                  NaN              AIS  \n",
      "2  MAERSK GIANT  01/03/2011 02:00:00              AIS  \n",
      "3           NaN                  NaN              AIS  \n",
      "4           NaN                  NaN              AIS  \n",
      "\n",
      "[5 rows x 22 columns]\n"
     ]
    }
   ],
   "source": [
    "print(df.head(5))"
   ]
  },
  {
   "cell_type": "code",
   "execution_count": 11,
   "metadata": {},
   "outputs": [
    {
     "name": "stdout",
     "output_type": "stream",
     "text": [
      "                     t       shipid         lon        lat  speed  course\n",
      "0  01/03/2011 00:00:00  219000818.0    9.889237  55.270373    0.0     4.0\n",
      "1  01/03/2011 00:00:00  265513470.0   12.687850  56.044867    0.0   216.2\n",
      "2  01/03/2011 00:00:00  258069000.0  181.000000  91.000000    NaN     NaN\n",
      "3  01/03/2011 00:00:00    2194006.0    5.033400  55.538917    NaN     NaN\n",
      "4  01/03/2011 00:00:00  211904000.0   11.068557  56.468103    7.5   169.1\n"
     ]
    }
   ],
   "source": [
    "# Keep only the specified columns\n",
    "df = df[['t', 'shipid', 'lon', 'lat', 'speed', 'course']]\n",
    "print(df.head(5))\n",
    "df.to_csv('aisdk_20110301.csv', index=False)"
   ]
  },
  {
   "cell_type": "code",
   "execution_count": 12,
   "metadata": {},
   "outputs": [],
   "source": [
    "df_2000 = df.head(2000)\n",
    "df_2000.to_csv('aisdk_20110301_2000.csv', index=False)"
   ]
  },
  {
   "cell_type": "code",
   "execution_count": 16,
   "metadata": {},
   "outputs": [],
   "source": [
    "#10% \n",
    "df_10 = df.sample(frac=0.1)\n",
    "df_10.to_csv('aisdk_20110301_10.csv', index=False)"
   ]
  }
 ],
 "metadata": {
  "kernelspec": {
   "display_name": "Python 3",
   "language": "python",
   "name": "python3"
  },
  "language_info": {
   "codemirror_mode": {
    "name": "ipython",
    "version": 3
   },
   "file_extension": ".py",
   "mimetype": "text/x-python",
   "name": "python",
   "nbconvert_exporter": "python",
   "pygments_lexer": "ipython3",
   "version": "3.11.7"
  }
 },
 "nbformat": 4,
 "nbformat_minor": 2
}
